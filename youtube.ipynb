{
  "nbformat": 4,
  "nbformat_minor": 0,
  "metadata": {
    "colab": {
      "provenance": []
    },
    "kernelspec": {
      "name": "python3",
      "display_name": "Python 3"
    },
    "language_info": {
      "name": "python"
    }
  },
  "cells": [
    {
      "cell_type": "code",
      "execution_count": null,
      "metadata": {
        "colab": {
          "base_uri": "https://localhost:8080/"
        },
        "id": "PUyXljC6j-rW",
        "outputId": "9e3aa930-6795-4d09-9dab-af0f609922a1"
      },
      "outputs": [
        {
          "output_type": "stream",
          "name": "stdout",
          "text": [
            "Collecting pyspark\n",
            "  Downloading pyspark-3.5.1.tar.gz (317.0 MB)\n",
            "\u001b[2K     \u001b[90m━━━━━━━━━━━━━━━━━━━━━━━━━━━━━━━━━━━━━━━━\u001b[0m \u001b[32m317.0/317.0 MB\u001b[0m \u001b[31m2.7 MB/s\u001b[0m eta \u001b[36m0:00:00\u001b[0m\n",
            "\u001b[?25h  Preparing metadata (setup.py) ... \u001b[?25l\u001b[?25hdone\n",
            "Requirement already satisfied: py4j==0.10.9.7 in /usr/local/lib/python3.10/dist-packages (from pyspark) (0.10.9.7)\n",
            "Building wheels for collected packages: pyspark\n",
            "  Building wheel for pyspark (setup.py) ... \u001b[?25l\u001b[?25hdone\n",
            "  Created wheel for pyspark: filename=pyspark-3.5.1-py2.py3-none-any.whl size=317488491 sha256=1347ab2602a72e9c20adf5a7cfa533b5bd91432e522e4be1dccac63c096a93cd\n",
            "  Stored in directory: /root/.cache/pip/wheels/80/1d/60/2c256ed38dddce2fdd93be545214a63e02fbd8d74fb0b7f3a6\n",
            "Successfully built pyspark\n",
            "Installing collected packages: pyspark\n",
            "Successfully installed pyspark-3.5.1\n"
          ]
        }
      ],
      "source": [
        "!pip install pyspark"
      ]
    },
    {
      "cell_type": "markdown",
      "source": [
        "Initial spark session, libraries and file"
      ],
      "metadata": {
        "id": "FW_DMtpEX0FF"
      }
    },
    {
      "cell_type": "code",
      "source": [
        "from pyspark.sql import SparkSession\n",
        "from pyspark.ml.feature import StringIndexer, VectorAssembler\n",
        "from pyspark.ml.classification import NaiveBayes, LogisticRegression, LinearSVC\n",
        "from pyspark.ml.regression import LinearRegression\n",
        "from pyspark.ml.evaluation import RegressionEvaluator\n",
        "\n",
        "# Create a Spark session\n",
        "spark = SparkSession.builder.appName(\"ModelSelection\").getOrCreate()\n",
        "\n",
        "# Load the CSV file into a DataFrame\n",
        "data = spark.read.csv(\"/content/daily_dose_of_internet.csv\", header=True)\n"
      ],
      "metadata": {
        "id": "oH_7TIvpAOD1"
      },
      "execution_count": null,
      "outputs": []
    },
    {
      "cell_type": "code",
      "source": [
        "data.printSchema()"
      ],
      "metadata": {
        "colab": {
          "base_uri": "https://localhost:8080/"
        },
        "id": "N5At1RKLF4cH",
        "outputId": "53dbf75c-456e-40f4-a676-a819624f58fc"
      },
      "execution_count": null,
      "outputs": [
        {
          "output_type": "stream",
          "name": "stdout",
          "text": [
            "root\n",
            " |-- Video URL: string (nullable = true)\n",
            " |-- Title: string (nullable = true)\n",
            " |-- Views: string (nullable = true)\n",
            " |-- Likes: string (nullable = true)\n",
            " |-- Publish Date: string (nullable = true)\n",
            " |-- Comments Count: string (nullable = true)\n",
            " |-- User Name: string (nullable = true)\n",
            " |-- Date And Time: string (nullable = true)\n",
            " |-- Comment: string (nullable = true)\n",
            " |-- Thumbs Up: string (nullable = true)\n",
            "\n"
          ]
        }
      ]
    },
    {
      "cell_type": "markdown",
      "source": [
        "Actions:"
      ],
      "metadata": {
        "id": "k9yGCk0rboAo"
      }
    },
    {
      "cell_type": "code",
      "source": [
        "data.show(5)"
      ],
      "metadata": {
        "colab": {
          "base_uri": "https://localhost:8080/"
        },
        "id": "-SkglwV3F8QF",
        "outputId": "fef5ea9b-0e22-4228-ca78-c9cc7bc5a03e"
      },
      "execution_count": null,
      "outputs": [
        {
          "output_type": "stream",
          "name": "stdout",
          "text": [
            "+--------------------+--------------------+-------+------+-------------------+--------------+--------------------+-------------------+--------------------+---------+\n",
            "|           Video URL|               Title|  Views| Likes|       Publish Date|Comments Count|           User Name|      Date And Time|             Comment|Thumbs Up|\n",
            "+--------------------+--------------------+-------+------+-------------------+--------------+--------------------+-------------------+--------------------+---------+\n",
            "|https://www.youtu...|Baby Discovers Gl...|5819784|252147|2023-07-24 23:32:45|         11046|@-universalbeast-...|2023-07-24 23:33:01|                   1|     21.0|\n",
            "|https://www.youtu...|Baby Discovers Gl...|5819784|252147|2023-07-24 23:32:45|         11046|           @yeet__gt|2023-07-24 23:33:05|                   W|     NULL|\n",
            "|https://www.youtu...|Baby Discovers Gl...|5819784|252147|2023-07-24 23:32:45|         11046|            @athumen|2023-07-24 23:33:06|Guess I got here ...|     NULL|\n",
            "|https://www.youtu...|Baby Discovers Gl...|5819784|252147|2023-07-24 23:32:45|         11046|      @Impulsebricks|2023-07-24 23:33:08|                  Yy|     NULL|\n",
            "|https://www.youtu...|Baby Discovers Gl...|5819784|252147|2023-07-24 23:32:45|         11046|       @entoxiclair_|2023-07-24 23:33:08|                  Fr|     NULL|\n",
            "+--------------------+--------------------+-------+------+-------------------+--------------+--------------------+-------------------+--------------------+---------+\n",
            "only showing top 5 rows\n",
            "\n"
          ]
        }
      ]
    },
    {
      "cell_type": "code",
      "source": [
        "rdd2 = data.count()\n",
        "print(f\"Number of rows in data : {rdd2}\")"
      ],
      "metadata": {
        "colab": {
          "base_uri": "https://localhost:8080/"
        },
        "id": "SzednDxBadUo",
        "outputId": "eec890f7-e759-4228-d5e8-2c55df731e25"
      },
      "execution_count": null,
      "outputs": [
        {
          "output_type": "stream",
          "name": "stdout",
          "text": [
            "Number of rows in data : 61850\n"
          ]
        }
      ]
    },
    {
      "cell_type": "code",
      "source": [
        "rdd3 =data.first()\n",
        "print(f\"The first element of dataset: {rdd3}\")"
      ],
      "metadata": {
        "colab": {
          "base_uri": "https://localhost:8080/"
        },
        "id": "lqhtJM0Sak9o",
        "outputId": "fe34075d-a8a3-4864-d18b-5f0dc6e6f8c8"
      },
      "execution_count": null,
      "outputs": [
        {
          "output_type": "stream",
          "name": "stdout",
          "text": [
            "The first element of dataset: Row(Video URL='https://www.youtube.com/watch?v=-K8Q_2zQMmc', Title='Baby Discovers Glitch in Reality', Views='5819784', Likes='252147', Publish Date='2023-07-24 23:32:45', Comments Count='11046', User Name='@-universalbeast-9558', Date And Time='2023-07-24 23:33:01', Comment='1', Thumbs Up='21.0', Title_Length=32)\n"
          ]
        }
      ]
    },
    {
      "cell_type": "code",
      "source": [
        "# Assuming you have loaded your data into a DataFrame called 'data'\n",
        "# Perform any necessary preprocessing steps\n",
        "preprocessed_data = data.na.drop()  # Drop rows with missing values\n"
      ],
      "metadata": {
        "id": "tfDPzii_MRlO"
      },
      "execution_count": null,
      "outputs": []
    },
    {
      "cell_type": "markdown",
      "source": [
        "Transformations:"
      ],
      "metadata": {
        "id": "KFDY6Ufqa0-B"
      }
    },
    {
      "cell_type": "code",
      "source": [
        "filtered_data = data.filter(data[\"Likes\"] > 0)\n",
        "filtered_data"
      ],
      "metadata": {
        "colab": {
          "base_uri": "https://localhost:8080/"
        },
        "id": "5VH5zvwvbyxq",
        "outputId": "a667149a-a47d-4233-9f68-658ceef42df1"
      },
      "execution_count": null,
      "outputs": [
        {
          "output_type": "execute_result",
          "data": {
            "text/plain": [
              "DataFrame[Video URL: string, Title: string, Views: string, Likes: string, Publish Date: string, Comments Count: string, User Name: string, Date And Time: string, Comment: string, Thumbs Up: string, Title_Length: int]"
            ]
          },
          "metadata": {},
          "execution_count": 135
        }
      ]
    },
    {
      "cell_type": "code",
      "source": [
        "avg_delay_by_origin = data.groupBy(\"Views\")\n",
        "avg_delay_by_origin"
      ],
      "metadata": {
        "colab": {
          "base_uri": "https://localhost:8080/"
        },
        "id": "TNeHAlO4b8_x",
        "outputId": "038f385c-61c3-45af-e8f9-74e11e067ecc"
      },
      "execution_count": null,
      "outputs": [
        {
          "output_type": "execute_result",
          "data": {
            "text/plain": [
              "GroupedData[grouping expressions: [Views], value: [Video URL: string, Title: string ... 9 more fields], type: GroupBy]"
            ]
          },
          "metadata": {},
          "execution_count": 139
        }
      ]
    },
    {
      "cell_type": "code",
      "source": [
        "sorted_data = data.orderBy(\"Title\")\n",
        "sorted_data"
      ],
      "metadata": {
        "colab": {
          "base_uri": "https://localhost:8080/"
        },
        "id": "EALKlgb3cYs2",
        "outputId": "1189df11-a18c-48ef-aff6-a65a59967b34"
      },
      "execution_count": null,
      "outputs": [
        {
          "output_type": "execute_result",
          "data": {
            "text/plain": [
              "DataFrame[Video URL: string, Title: string, Views: string, Likes: string, Publish Date: string, Comments Count: string, User Name: string, Date And Time: string, Comment: string, Thumbs Up: string, Title_Length: int]"
            ]
          },
          "metadata": {},
          "execution_count": 140
        }
      ]
    },
    {
      "cell_type": "markdown",
      "source": [
        "Data Preprocessing"
      ],
      "metadata": {
        "id": "A4GR3r6gciMw"
      }
    },
    {
      "cell_type": "code",
      "source": [
        "from pyspark.sql.functions import length\n",
        "\n",
        "# Assume 'data' is your DataFrame\n",
        "# Create a new feature representing the length of the title\n",
        "data = data.withColumn('Title_Length', length('Title'))\n",
        "print(data)"
      ],
      "metadata": {
        "colab": {
          "base_uri": "https://localhost:8080/"
        },
        "id": "Btbf1kl5MTEi",
        "outputId": "5ab1de4d-ef5f-462b-de73-02d379fa9b1a"
      },
      "execution_count": null,
      "outputs": [
        {
          "output_type": "stream",
          "name": "stdout",
          "text": [
            "DataFrame[Video URL: string, Title: string, Views: string, Likes: string, Publish Date: string, Comments Count: string, User Name: string, Date And Time: string, Comment: string, Thumbs Up: string, Title_Length: int]\n"
          ]
        }
      ]
    },
    {
      "cell_type": "code",
      "source": [
        "from pyspark.sql.functions import when\n",
        "\n",
        "# Replace missing values in 'Likes' column with a default value\n",
        "data = data.withColumn('Likes', when(data['Likes'].isNull(), 0).otherwise(data['Likes']))\n"
      ],
      "metadata": {
        "id": "prm4BmdQMNQS"
      },
      "execution_count": null,
      "outputs": []
    },
    {
      "cell_type": "code",
      "source": [
        "new_data = data.select('Title','Views','Likes',\"Comments Count\")"
      ],
      "metadata": {
        "id": "OFyNQshpGPHf"
      },
      "execution_count": null,
      "outputs": []
    },
    {
      "cell_type": "code",
      "source": [
        "new_data.show()"
      ],
      "metadata": {
        "colab": {
          "base_uri": "https://localhost:8080/"
        },
        "id": "cEhxb4FnJAOA",
        "outputId": "c72a7f98-4766-4876-face-36fc07d327c3"
      },
      "execution_count": null,
      "outputs": [
        {
          "output_type": "stream",
          "name": "stdout",
          "text": [
            "+--------------------+-------+------+--------------+\n",
            "|               Title|  Views| Likes|Comments Count|\n",
            "+--------------------+-------+------+--------------+\n",
            "|Baby Discovers Gl...|5819784|252147|         11046|\n",
            "|Baby Discovers Gl...|5819784|252147|         11046|\n",
            "|Baby Discovers Gl...|5819784|252147|         11046|\n",
            "|Baby Discovers Gl...|5819784|252147|         11046|\n",
            "|Baby Discovers Gl...|5819784|252147|         11046|\n",
            "|Baby Discovers Gl...|5819784|252147|         11046|\n",
            "|Baby Discovers Gl...|5819784|252147|         11046|\n",
            "|Baby Discovers Gl...|5819784|252147|         11046|\n",
            "|Baby Discovers Gl...|5819784|252147|         11046|\n",
            "|Baby Discovers Gl...|5819784|252147|         11046|\n",
            "|Baby Discovers Gl...|5819784|252147|         11046|\n",
            "|Baby Discovers Gl...|5819784|252147|         11046|\n",
            "|Baby Discovers Gl...|5819784|252147|         11046|\n",
            "|Baby Discovers Gl...|5819784|252147|         11046|\n",
            "|Baby Discovers Gl...|5819784|252147|         11046|\n",
            "|Baby Discovers Gl...|5819784|252147|         11046|\n",
            "|Baby Discovers Gl...|5819784|252147|         11046|\n",
            "|Baby Discovers Gl...|5819784|252147|         11046|\n",
            "|Baby Discovers Gl...|5819784|252147|         11046|\n",
            "|Baby Discovers Gl...|5819784|252147|         11046|\n",
            "+--------------------+-------+------+--------------+\n",
            "only showing top 20 rows\n",
            "\n"
          ]
        }
      ]
    },
    {
      "cell_type": "code",
      "source": [
        "new_data.select(\"Title\").distinct().show()"
      ],
      "metadata": {
        "colab": {
          "base_uri": "https://localhost:8080/"
        },
        "id": "J4hLrA3DHE7L",
        "outputId": "db74c294-abed-4d75-d1cf-85490275e83b"
      },
      "execution_count": null,
      "outputs": [
        {
          "output_type": "stream",
          "name": "stdout",
          "text": [
            "+--------------------+\n",
            "|               Title|\n",
            "+--------------------+\n",
            "|Security Camera C...|\n",
            "|Didn’t Know He Wa...|\n",
            "| This Is An Air Fish|\n",
            "|Baby Discovers Gl...|\n",
            "|Man Saves Frozen ...|\n",
            "|Kid Gets Caught T...|\n",
            "|The Best Of The I...|\n",
            "+--------------------+\n",
            "\n"
          ]
        }
      ]
    },
    {
      "cell_type": "code",
      "source": [
        "new_data.printSchema()"
      ],
      "metadata": {
        "colab": {
          "base_uri": "https://localhost:8080/"
        },
        "id": "xN1bBGpHKljG",
        "outputId": "81d38972-f63d-4f4f-9710-f35c70e78f20"
      },
      "execution_count": null,
      "outputs": [
        {
          "output_type": "stream",
          "name": "stdout",
          "text": [
            "root\n",
            " |-- Title: string (nullable = true)\n",
            " |-- Views: string (nullable = true)\n",
            " |-- Likes: string (nullable = true)\n",
            " |-- Comments Count: string (nullable = true)\n",
            "\n"
          ]
        }
      ]
    },
    {
      "cell_type": "code",
      "source": [
        "new_data.columns"
      ],
      "metadata": {
        "colab": {
          "base_uri": "https://localhost:8080/"
        },
        "id": "e0CspcsMM28U",
        "outputId": "5ad1f924-b6ba-46e1-b0ff-78f18a83dd1e"
      },
      "execution_count": null,
      "outputs": [
        {
          "output_type": "execute_result",
          "data": {
            "text/plain": [
              "['Title', 'Views', 'Likes', 'Comments Count']"
            ]
          },
          "metadata": {},
          "execution_count": 120
        }
      ]
    },
    {
      "cell_type": "code",
      "source": [
        "from pyspark.sql.functions import count, when, isnan, isnull, col\n",
        "\n",
        "# Check for missing values\n",
        "missing_values = new_data.select([count(when(isnan(c) | isnull(c), c)).alias(c) for c in new_data.columns])\n",
        "missing_values.show()\n",
        "\n",
        "\n",
        "\n",
        "# Check the variability of the target variable (\"Likes\")\n",
        "target_summary = new_data.select(\"Likes\").summary()\n",
        "target_summary.show()\n"
      ],
      "metadata": {
        "colab": {
          "base_uri": "https://localhost:8080/"
        },
        "id": "QjjZaU0nLk5e",
        "outputId": "41aed08d-9e03-4134-c619-867e181bd7f0"
      },
      "execution_count": null,
      "outputs": [
        {
          "output_type": "stream",
          "name": "stdout",
          "text": [
            "+-----+-----+-----+--------------+\n",
            "|Title|Views|Likes|Comments Count|\n",
            "+-----+-----+-----+--------------+\n",
            "|    0|    0|    0|             0|\n",
            "+-----+-----+-----+--------------+\n",
            "\n",
            "+-------+-----------------+\n",
            "|summary|            Likes|\n",
            "+-------+-----------------+\n",
            "|  count|            61850|\n",
            "|   mean|385283.5668391269|\n",
            "| stddev|192251.3272354196|\n",
            "|    min|          1130274|\n",
            "|    25%|         252147.0|\n",
            "|    50%|         348031.0|\n",
            "|    75%|         359113.0|\n",
            "|    max|           522738|\n",
            "+-------+-----------------+\n",
            "\n"
          ]
        }
      ]
    },
    {
      "cell_type": "code",
      "source": [
        "from pyspark.sql.functions import col\n",
        "new_data = new_data.withColumn(\"Views\", col(\"Views\").cast(\"float\"))\n",
        "new_data = new_data.withColumn(\"Comments Count\", col(\"Comments Count\").cast(\"float\"))\n",
        "new_data = new_data.withColumn(\"Likes\", col(\"Likes\").cast(\"float\"))"
      ],
      "metadata": {
        "id": "p_EnDZ2iPXk1"
      },
      "execution_count": null,
      "outputs": []
    },
    {
      "cell_type": "code",
      "source": [
        "from pyspark.ml.feature import StringIndexer\n",
        "index = StringIndexer(inputCol ='Title',outputCol ='Title1')\n",
        "new_data1 = index.fit(new_data).transform(new_data)\n"
      ],
      "metadata": {
        "id": "Y4cE1YoJOGdk"
      },
      "execution_count": null,
      "outputs": []
    },
    {
      "cell_type": "code",
      "source": [
        "new_data1.distinct().show()"
      ],
      "metadata": {
        "colab": {
          "base_uri": "https://localhost:8080/"
        },
        "id": "uuP5b1k5PKdF",
        "outputId": "d471d752-a0c3-4c8d-f9d4-610c49284831"
      },
      "execution_count": null,
      "outputs": [
        {
          "output_type": "stream",
          "name": "stdout",
          "text": [
            "+--------------------+-----------+---------+--------------+------+\n",
            "|               Title|      Views|    Likes|Comments Count|Title1|\n",
            "+--------------------+-----------+---------+--------------+------+\n",
            "|Baby Discovers Gl...|  5819784.0| 252147.0|       11046.0|   4.0|\n",
            "| This Is An Air Fish|  9203380.0| 192591.0|       12344.0|   5.0|\n",
            "|Man Saves Frozen ...|1.3031411E7| 359113.0|       12280.0|   3.0|\n",
            "|Security Camera C...|1.1582199E7| 348031.0|       18518.0|   0.0|\n",
            "|Didn’t Know He Wa...|  6949914.0| 326700.0|       10333.0|   2.0|\n",
            "|The Best Of The I...|4.9366644E7|1130274.0|       34986.0|   6.0|\n",
            "|Kid Gets Caught T...|2.2681858E7| 522738.0|       17398.0|   1.0|\n",
            "+--------------------+-----------+---------+--------------+------+\n",
            "\n"
          ]
        }
      ]
    },
    {
      "cell_type": "code",
      "source": [
        "new_data1.select(\"Title1\").distinct().show()"
      ],
      "metadata": {
        "colab": {
          "base_uri": "https://localhost:8080/"
        },
        "id": "9hgZp12FRTkP",
        "outputId": "175f680e-b18d-4bb3-9b76-f92906cbe593"
      },
      "execution_count": null,
      "outputs": [
        {
          "output_type": "stream",
          "name": "stdout",
          "text": [
            "+------+\n",
            "|Title1|\n",
            "+------+\n",
            "|   0.0|\n",
            "|   4.0|\n",
            "|   3.0|\n",
            "|   2.0|\n",
            "|   5.0|\n",
            "|   1.0|\n",
            "|   6.0|\n",
            "+------+\n",
            "\n"
          ]
        }
      ]
    },
    {
      "cell_type": "code",
      "source": [
        "new_data1.columns"
      ],
      "metadata": {
        "colab": {
          "base_uri": "https://localhost:8080/"
        },
        "id": "cKG7tfTNRr-g",
        "outputId": "fbdadbdf-a5c5-4898-b501-6516884ca0f1"
      },
      "execution_count": null,
      "outputs": [
        {
          "output_type": "execute_result",
          "data": {
            "text/plain": [
              "['Title', 'Views', 'Likes', 'Comments Count', 'Title1']"
            ]
          },
          "metadata": {},
          "execution_count": 126
        }
      ]
    },
    {
      "cell_type": "code",
      "source": [
        "\n",
        "# Select relevant features and target variable\n",
        "feature_columns = ['Views','Comments Count', 'Title1']  # Add relevant feature columns\n",
        "assembler = VectorAssembler(inputCols=feature_columns, outputCol=\"feature\")\n",
        "df = assembler.transform(new_data1)\n",
        "\n"
      ],
      "metadata": {
        "id": "SIdZ9dl_F2Nr"
      },
      "execution_count": null,
      "outputs": []
    },
    {
      "cell_type": "markdown",
      "source": [
        "Model Building"
      ],
      "metadata": {
        "id": "7bB_fGxgVat2"
      }
    },
    {
      "cell_type": "code",
      "source": [
        "#linear regression\n",
        "# Split data into training and testing sets\n",
        "train_data, test_data = df.randomSplit([0.8, 0.2],seed =42)\n",
        "\n",
        "# Create a Linear Regression model\n",
        "lr = LinearRegression(featuresCol=\"feature\", labelCol=\"Likes\")\n",
        "\n",
        "# Fit the model\n",
        "lr_model = lr.fit(train_data)\n",
        "\n",
        "# Evaluate the model\n",
        "predictions = lr_model.transform(test_data)\n",
        "\n",
        "# Create a RegressionEvaluator\n",
        "evaluator = RegressionEvaluator(labelCol=\"Likes\", predictionCol=\"prediction\", metricName=\"r2\")\n",
        "\n",
        "# Calculate R2 score\n",
        "r2_score = evaluator.evaluate(predictions)\n",
        "print(\"R2 Score:\", r2_score)\n"
      ],
      "metadata": {
        "id": "VR3BQCm_ThZ4",
        "colab": {
          "base_uri": "https://localhost:8080/"
        },
        "outputId": "57d40b65-fa83-4095-a38e-df42d87f0727"
      },
      "execution_count": null,
      "outputs": [
        {
          "output_type": "stream",
          "name": "stdout",
          "text": [
            "R2 Score: 0.932172062019895\n"
          ]
        }
      ]
    },
    {
      "cell_type": "markdown",
      "source": [
        "Inference:\n",
        "\n",
        " R2 score of approximately 0.93 for the Linear Regression model, we can infer that the model explains about 93.2% of the variability in the number of \"Likes\" based on the provided features. This high R2 score indicates a strong relationship between the features and the target variable."
      ],
      "metadata": {
        "id": "aZICuROEV1Ko"
      }
    },
    {
      "cell_type": "code",
      "source": [
        "from pyspark.ml.regression import DecisionTreeRegressor\n",
        "\n",
        "# Create a Decision Tree classifier\n",
        "dt = DecisionTreeRegressor(labelCol=\"Likes\", featuresCol=\"feature\")\n",
        "\n",
        "# Train the model\n",
        "dt_model = dt.fit(train_data)\n",
        "\n",
        "dt_pred = dt_model.transform(test_data)\n",
        "\n",
        "# Create a RegressionEvaluator\n",
        "evaluator2 = RegressionEvaluator(labelCol=\"Likes\", predictionCol=\"prediction\", metricName=\"r2\")\n",
        "\n",
        "# Calculate R2 score\n",
        "r2_score = evaluator2.evaluate(dt_pred)\n",
        "print(\"R2 Score:\", r2_score)"
      ],
      "metadata": {
        "id": "8tmFK76HUoCu",
        "colab": {
          "base_uri": "https://localhost:8080/"
        },
        "outputId": "f1bda127-3c9c-4d17-dad0-b685a8e328b2"
      },
      "execution_count": null,
      "outputs": [
        {
          "output_type": "stream",
          "name": "stdout",
          "text": [
            "R2 Score: 1.0\n"
          ]
        }
      ]
    },
    {
      "cell_type": "markdown",
      "source": [
        "Inference:\n",
        "R2 score of a Decision Tree Regressor is 1.0, it suggests that the model perfectly predicts the variability in the target variable based on the provided features. In other words, the model explains 100% of the variance in the target variable, achieving a perfect fit to the training data."
      ],
      "metadata": {
        "id": "oeI9I8jiV5db"
      }
    },
    {
      "cell_type": "code",
      "source": [
        "from pyspark.ml.regression import RandomForestRegressor, GBTRegressor\n",
        "\n",
        "# Random Forest Regression\n",
        "rf = RandomForestRegressor(labelCol=\"Likes\", featuresCol=\"feature\")\n",
        "rf_model = rf.fit(train_data)\n",
        "rf_pred = rf_model.transform(test_data)\n",
        "\n",
        "# Create a RegressionEvaluator\n",
        "evaluator2 = RegressionEvaluator(labelCol=\"Likes\", predictionCol=\"prediction\", metricName=\"r2\")\n",
        "# Evaluations for Random Forest Regression\n",
        "rf_r2_score = evaluator.evaluate(rf_pred)\n",
        "print(\"Random Forest R2 Score:\", rf_r2_score)\n",
        "\n"
      ],
      "metadata": {
        "colab": {
          "base_uri": "https://localhost:8080/"
        },
        "id": "k1OO15OTRCy1",
        "outputId": "fecf1baa-6688-4bf1-a1a3-7690acaf2dd2"
      },
      "execution_count": null,
      "outputs": [
        {
          "output_type": "stream",
          "name": "stdout",
          "text": [
            "Random Forest R2 Score: 0.999937678917951\n"
          ]
        }
      ]
    },
    {
      "cell_type": "markdown",
      "source": [
        "Inference:\n",
        "R2 score of approximately 0.999937 for the RandomForestRegressor model, we can infer that the model explains an exceptionally high proportion of the variance in the number of \"Likes\" based on the provided features.\n"
      ],
      "metadata": {
        "id": "OWnkjMG2WZqR"
      }
    },
    {
      "cell_type": "code",
      "source": [
        "# Gradient Boosted Tree Regression\n",
        "gbt = GBTRegressor(labelCol=\"Likes\", featuresCol=\"feature\", maxIter=10)\n",
        "gbt_model = gbt.fit(train_data)\n",
        "gbt_pred = gbt_model.transform(test_data)\n",
        "\n",
        "# Evaluations for Gradient Boosted Tree Regression\n",
        "gbt_r2_score = evaluator.evaluate(gbt_pred)\n",
        "print(\"Gradient Boosted Tree R2 Score:\", gbt_r2_score)"
      ],
      "metadata": {
        "colab": {
          "base_uri": "https://localhost:8080/"
        },
        "id": "7eBz0f92SrRd",
        "outputId": "98607773-2075-4fb4-eac0-9d412202917f"
      },
      "execution_count": null,
      "outputs": [
        {
          "output_type": "stream",
          "name": "stdout",
          "text": [
            "Gradient Boosted Tree R2 Score: 1.0\n"
          ]
        }
      ]
    },
    {
      "cell_type": "markdown",
      "source": [
        "INference:\n",
        "\n",
        "R2 score signifies an excellent fit between the model and the data, it's essential to interpret the results cautiously, considering factors such as overfitting and model complexity. Nonetheless, the GBT Regressor model's ability to perfectly explain the variability in \"Likes\" suggests it's a powerful tool for predicting engagement metrics in this context\n"
      ],
      "metadata": {
        "id": "pxft5hmFWbUD"
      }
    },
    {
      "cell_type": "code",
      "source": [
        "from pyspark.ml.regression import GeneralizedLinearRegression\n",
        "\n",
        "# Create a Lasso Regression model\n",
        "lasso = GeneralizedLinearRegression(family=\"gaussian\", link=\"identity\", maxIter=10, regParam=0.1, labelCol=\"Likes\", featuresCol=\"feature\")\n",
        "\n",
        "# Train the model\n",
        "lasso_model = lasso.fit(train_data)\n",
        "\n",
        "# Make predictions\n",
        "lasso_pred = lasso_model.transform(test_data)\n",
        "\n",
        "# Evaluate Lasso Regression model\n",
        "lasso_evaluator = RegressionEvaluator(labelCol=\"Likes\", predictionCol=\"prediction\", metricName=\"r2\")\n",
        "lasso_r2_score = lasso_evaluator.evaluate(lasso_pred)\n",
        "print(\"Lasso Regression R2 Score:\", lasso_r2_score)\n",
        "\n"
      ],
      "metadata": {
        "colab": {
          "base_uri": "https://localhost:8080/"
        },
        "id": "dUxZLCTTT33H",
        "outputId": "e437b6f5-3e58-4c04-a784-462f51cc0a7d"
      },
      "execution_count": null,
      "outputs": [
        {
          "output_type": "stream",
          "name": "stdout",
          "text": [
            "Lasso Regression R2 Score: 0.9321720599918815\n"
          ]
        }
      ]
    },
    {
      "cell_type": "markdown",
      "source": [
        "Inference:\n",
        "\n",
        " R2 score of approximately 0.9321720 for the Generalized Linear Regression model, we can infer that the model explains about 93.2% of the variability in the number of \"Likes\" based on the provided features. This high R2 score indicates a strong relationship between the features and the target variable, similar to the Linear Regression model."
      ],
      "metadata": {
        "id": "sslVUQ-2WfcW"
      }
    }
  ]
}